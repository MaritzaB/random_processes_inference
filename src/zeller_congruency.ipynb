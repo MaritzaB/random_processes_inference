{
 "cells": [
  {
   "cell_type": "markdown",
   "metadata": {},
   "source": [
    "## Congruencia de Zeller\n",
    "\n",
    "La congruencia de Zeller es un algoritmo para calcular el día de la semana para\n",
    "cualquier fecha del calendario."
   ]
  },
  {
   "cell_type": "code",
   "execution_count": null,
   "metadata": {},
   "outputs": [],
   "source": [
    "import datetime\n",
    "\n",
    "birthdate = input(\"Introduce tu fecha de nacimiento en formato dd-mm-yyyy\")\n",
    "date = datetime.datetime.strptime(birthdate, \"%d-%m-%Y\")\n",
    "\n",
    "day = int(date.day)\n",
    "monthh = int(date.month)\n",
    "year = int(date.year)\n",
    "\n",
    "a = (14 - monthh) // 12\n",
    "y = year - a\n",
    "m = monthh + 12 * a - 2\n",
    "\n",
    "d = (day + y + (y//4) - (y//100) + (y//400) + (31*m)//12 ) % 7\n",
    "\n",
    "weekday = {\n",
    "    0:\"domingo\",\n",
    "    1:\"lunes\",\n",
    "    2:\"martes\",\n",
    "    3:\"miercoles\",\n",
    "    4:\"jueves\",\n",
    "    5:\"viernes\",\n",
    "    6:\"sábado\"\n",
    "}\n",
    "\n",
    "value = weekday[d]\n",
    "\n",
    "print(f\"El día {date} cae en \", value)"
   ]
  }
 ],
 "metadata": {
  "kernelspec": {
   "display_name": "Python 3.8.10 64-bit",
   "language": "python",
   "name": "python3"
  },
  "language_info": {
   "codemirror_mode": {
    "name": "ipython",
    "version": 3
   },
   "file_extension": ".py",
   "mimetype": "text/x-python",
   "name": "python",
   "nbconvert_exporter": "python",
   "pygments_lexer": "ipython3",
   "version": "3.8.10"
  },
  "orig_nbformat": 4,
  "vscode": {
   "interpreter": {
    "hash": "916dbcbb3f70747c44a77c7bcd40155683ae19c65e1c03b4aa3499c5328201f1"
   }
  }
 },
 "nbformat": 4,
 "nbformat_minor": 2
}
